{
 "cells": [
  {
   "cell_type": "code",
   "execution_count": 171,
   "metadata": {},
   "outputs": [],
   "source": [
    "import numpy as np\n",
    "import pandas as pd\n",
    "from sklearn.model_selection import train_test_split\n",
    "from sklearn.preprocessing import LabelEncoder\n",
    "from sklearn.utils import class_weight\n",
    "from tensorflow.keras.models import Sequential\n",
    "from tensorflow.keras.utils import to_categorical\n",
    "from tensorflow.keras.callbacks import EarlyStopping\n",
    "from tensorflow.keras.regularizers import l2\n",
    "from tensorflow.keras.layers import Dense, Dropout, Input, BatchNormalization\n",
    "import joblib"
   ]
  },
  {
   "cell_type": "code",
   "execution_count": 172,
   "metadata": {},
   "outputs": [],
   "source": [
    "# 1. Load Dataset\n",
    "df = pd.read_csv('keypoints.csv')\n",
    "\n",
    "# 2. Normalize Keypoints Safely\n",
    "def normalize_keypoints(row):\n",
    "    row = np.array(row, dtype=np.float32)\n",
    "    if np.isnan(row).any() or np.isinf(row).any():\n",
    "        return np.zeros_like(row)\n",
    "    try:\n",
    "        row = row.reshape(-1, 3)  # assume (n_landmarks * 3)\n",
    "        x = row[:, 0]\n",
    "        y = row[:, 1]\n",
    "\n",
    "        x -= x[0]\n",
    "        y -= y[0]\n",
    "\n",
    "        max_range = max(np.ptp(x), np.ptp(y))\n",
    "        if max_range == 0:\n",
    "            max_range = 1e-5\n",
    "\n",
    "        x /= max_range\n",
    "        y /= max_range\n",
    "\n",
    "        row[:, 0] = x\n",
    "        row[:, 1] = y\n",
    "        return row.flatten()\n",
    "\n",
    "    except Exception as e:\n",
    "        print(\"Bad row, skipping:\", e)\n",
    "        return np.zeros_like(row)\n",
    "    \n",
    "\n",
    "X = df.drop('label', axis=1).values\n",
    "X_normalized = np.array([normalize_keypoints(row) for row in X])\n"
   ]
  },
  {
   "cell_type": "code",
   "execution_count": 173,
   "metadata": {},
   "outputs": [
    {
     "data": {
      "text/plain": [
       "['label_encoder.pkl']"
      ]
     },
     "execution_count": 173,
     "metadata": {},
     "output_type": "execute_result"
    }
   ],
   "source": [
    "# Remove NaNs/Infs and all-zero rows\n",
    "mask = ~np.isnan(X_normalized).any(axis=1) & ~np.isinf(X_normalized).any(axis=1) & ~np.all(X_normalized == 0, axis=1)\n",
    "X_cleaned = X_normalized[mask]\n",
    "y_cleaned = df['label'].values[mask]\n",
    "\n",
    "\n",
    "# 4. Encode labels\n",
    "y_encoded = LabelEncoder().fit_transform(y)\n",
    "y_categorical = to_categorical(y_encoded)\n",
    "\n",
    "# Save label encoder for real-time prediction\n",
    "label_encoder = LabelEncoder()\n",
    "y_int = label_encoder.fit_transform(y)\n",
    "y_categorical = to_categorical(y_int)\n",
    "joblib.dump(label_encoder, 'label_encoder.pkl')"
   ]
  },
  {
   "cell_type": "code",
   "execution_count": 189,
   "metadata": {},
   "outputs": [
    {
     "name": "stdout",
     "output_type": "stream",
     "text": [
      "X_cleaned shape: (1093, 149)\n",
      "y_categorical shape: (1093,)\n",
      "X_cleaned shape after cleaning: (1093, 148)\n",
      "y_categorical shape after cleaning: (1093,)\n",
      "X_train shape: (874, 148)\n",
      "X_test shape: (219, 148)\n",
      "y_train shape: (874,)\n",
      "y_test shape: (219,)\n"
     ]
    }
   ],
   "source": [
    "# Check the shapes before any modifications\n",
    "print(f\"X_cleaned shape: {X_cleaned.shape}\")\n",
    "print(f\"y_categorical shape: {y_categorical.shape}\")\n",
    "\n",
    "# Remove rows with missing values in either X_cleaned or y_categorical\n",
    "# This ensures that both X_cleaned and y_categorical have the same length\n",
    "df_cleaned = pd.concat([pd.DataFrame(X_cleaned), pd.Series(y_categorical)], axis=1).dropna()\n",
    "\n",
    "# Separate the features and target after cleaning\n",
    "X_cleaned = df_cleaned.drop(df_cleaned.columns[-1], axis=1).values\n",
    "y_categorical = df_cleaned.iloc[:, -1].values\n",
    "\n",
    "# Check the shapes after cleaning\n",
    "print(f\"X_cleaned shape after cleaning: {X_cleaned.shape}\")\n",
    "print(f\"y_categorical shape after cleaning: {y_categorical.shape}\")\n",
    "\n",
    "# Now, split the dataset into training and testing sets\n",
    "from sklearn.model_selection import train_test_split\n",
    "\n",
    "X_train, X_test, y_train, y_test = train_test_split(\n",
    "    X_cleaned, y_categorical, test_size=0.2, random_state=42\n",
    ")\n",
    "\n",
    "# Check the shapes of the resulting splits\n",
    "print(f\"X_train shape: {X_train.shape}\")\n",
    "print(f\"X_test shape: {X_test.shape}\")\n",
    "print(f\"y_train shape: {y_train.shape}\")\n",
    "print(f\"y_test shape: {y_test.shape}\")\n"
   ]
  },
  {
   "cell_type": "code",
   "execution_count": 190,
   "metadata": {},
   "outputs": [],
   "source": [
    "class_weights = class_weight.compute_class_weight(\n",
    "    class_weight='balanced',\n",
    "    classes=np.unique(y_encoded),\n",
    "    y=y_encoded\n",
    ")\n",
    "class_weights = dict(enumerate(class_weights))\n"
   ]
  },
  {
   "cell_type": "code",
   "execution_count": 191,
   "metadata": {},
   "outputs": [],
   "source": [
    "from tensorflow.keras.models import Sequential\n",
    "from tensorflow.keras.layers import Input, Dense, BatchNormalization, Dropout\n",
    "\n",
    "# Calculate number of classes\n",
    "num_classes = len(np.unique(y_categorical))\n",
    "\n",
    "# Build the model\n",
    "model = Sequential([\n",
    "    Input(shape=(X_train.shape[1],)),\n",
    "    Dense(256, activation='relu'),\n",
    "    BatchNormalization(),\n",
    "    Dropout(0.5),\n",
    "    Dense(128, activation='relu'),\n",
    "    BatchNormalization(),\n",
    "    Dropout(0.2),\n",
    "    Dense(64, activation='relu'),\n",
    "    Dense(num_classes, activation='softmax')  # Use num_classes instead of y_categorical.shape[1]\n",
    "])\n",
    "\n",
    "model.compile(optimizer='adam', loss='categorical_crossentropy', metrics=['accuracy'])\n"
   ]
  },
  {
   "cell_type": "code",
   "execution_count": 186,
   "metadata": {},
   "outputs": [
    {
     "name": "stdout",
     "output_type": "stream",
     "text": [
      "Unique labels in y_train: [ 0  1  2  3  4  5  6  7  8  9 10 12 13 14 16 18 19 20 22 24 25 26 28 29\n",
      " 30 32 33 34 36 38 39 40 41 42]\n",
      "Unique labels in y_test: [ 0  1  2  3  4  5  6  7  8  9 10 12 13 14 16 18 20 22 24 25 26 28 29 30\n",
      " 32 33 34 36 38 39 40 41 42]\n"
     ]
    }
   ],
   "source": [
    "# Step 1: Check the unique labels in y_train and y_test\n",
    "print(f\"Unique labels in y_train: {np.unique(y_train)}\")\n",
    "print(f\"Unique labels in y_test: {np.unique(y_test)}\")\n",
    "\n",
    "# Step 2: Create a continuous label mapping\n",
    "unique_labels = np.unique(np.concatenate([y_train, y_test]))  # Combine both sets\n",
    "label_mapping = {label: idx for idx, label in enumerate(unique_labels)}\n",
    "\n",
    "# Step 3: Map the labels to continuous range\n",
    "y_train_mapped = np.array([label_mapping[label] for label in y_train])\n",
    "y_test_mapped = np.array([label_mapping[label] for label in y_test])\n",
    "\n",
    "from tensorflow.keras.utils import to_categorical\n",
    "\n",
    "# Step 4: Convert y_train and y_test to one-hot encoded labels\n",
    "num_classes = len(unique_labels)  # Get the number of classes from the unique labels\n",
    "y_train_one_hot = to_categorical(y_train_mapped, num_classes=num_classes)\n",
    "y_test_one_hot = to_categorical(y_test_mapped, num_classes=num_classes)\n"
   ]
  },
  {
   "cell_type": "code",
   "execution_count": 192,
   "metadata": {},
   "outputs": [
    {
     "name": "stdout",
     "output_type": "stream",
     "text": [
      "Epoch 1/50\n"
     ]
    },
    {
     "ename": "ValueError",
     "evalue": "Arguments `target` and `output` must have the same shape. Received: target.shape=(None, 43), output.shape=(None, 34)",
     "output_type": "error",
     "traceback": [
      "\u001b[1;31m---------------------------------------------------------------------------\u001b[0m",
      "\u001b[1;31mValueError\u001b[0m                                Traceback (most recent call last)",
      "Cell \u001b[1;32mIn[192], line 7\u001b[0m\n\u001b[0;32m      4\u001b[0m early_stop \u001b[39m=\u001b[39m EarlyStopping(monitor\u001b[39m=\u001b[39m\u001b[39m'\u001b[39m\u001b[39mval_loss\u001b[39m\u001b[39m'\u001b[39m, patience\u001b[39m=\u001b[39m\u001b[39m5\u001b[39m, restore_best_weights\u001b[39m=\u001b[39m\u001b[39mTrue\u001b[39;00m)\n\u001b[0;32m      6\u001b[0m \u001b[39m# Step 6: Train the model\u001b[39;00m\n\u001b[1;32m----> 7\u001b[0m history \u001b[39m=\u001b[39m model\u001b[39m.\u001b[39;49mfit(\n\u001b[0;32m      8\u001b[0m     X_train, y_train_one_hot,  \u001b[39m# Use the one-hot encoded labels\u001b[39;49;00m\n\u001b[0;32m      9\u001b[0m     epochs\u001b[39m=\u001b[39;49m\u001b[39m50\u001b[39;49m,\n\u001b[0;32m     10\u001b[0m     batch_size\u001b[39m=\u001b[39;49m\u001b[39m16\u001b[39;49m,\n\u001b[0;32m     11\u001b[0m     validation_split\u001b[39m=\u001b[39;49m\u001b[39m0.2\u001b[39;49m,\n\u001b[0;32m     12\u001b[0m     callbacks\u001b[39m=\u001b[39;49m[early_stop],\n\u001b[0;32m     13\u001b[0m     class_weight\u001b[39m=\u001b[39;49mclass_weights  \u001b[39m# Make sure class_weights is defined\u001b[39;49;00m\n\u001b[0;32m     14\u001b[0m )\n\u001b[0;32m     16\u001b[0m \u001b[39m# Step 7: Evaluate the model\u001b[39;00m\n\u001b[0;32m     17\u001b[0m loss, accuracy \u001b[39m=\u001b[39m model\u001b[39m.\u001b[39mevaluate(X_test, y_test_one_hot)  \u001b[39m# Use the one-hot encoded test labels\u001b[39;00m\n",
      "File \u001b[1;32mc:\\Users\\Administrator\\AppData\\Local\\Programs\\Python\\Python312\\Lib\\site-packages\\keras\\src\\utils\\traceback_utils.py:122\u001b[0m, in \u001b[0;36mfilter_traceback.<locals>.error_handler\u001b[1;34m(*args, **kwargs)\u001b[0m\n\u001b[0;32m    119\u001b[0m     filtered_tb \u001b[39m=\u001b[39m _process_traceback_frames(e\u001b[39m.\u001b[39m__traceback__)\n\u001b[0;32m    120\u001b[0m     \u001b[39m# To get the full stack trace, call:\u001b[39;00m\n\u001b[0;32m    121\u001b[0m     \u001b[39m# `keras.config.disable_traceback_filtering()`\u001b[39;00m\n\u001b[1;32m--> 122\u001b[0m     \u001b[39mraise\u001b[39;00m e\u001b[39m.\u001b[39mwith_traceback(filtered_tb) \u001b[39mfrom\u001b[39;00m \u001b[39mNone\u001b[39;00m\n\u001b[0;32m    123\u001b[0m \u001b[39mfinally\u001b[39;00m:\n\u001b[0;32m    124\u001b[0m     \u001b[39mdel\u001b[39;00m filtered_tb\n",
      "File \u001b[1;32mc:\\Users\\Administrator\\AppData\\Local\\Programs\\Python\\Python312\\Lib\\site-packages\\keras\\src\\backend\\tensorflow\\nn.py:660\u001b[0m, in \u001b[0;36mcategorical_crossentropy\u001b[1;34m(target, output, from_logits, axis)\u001b[0m\n\u001b[0;32m    658\u001b[0m \u001b[39mfor\u001b[39;00m e1, e2 \u001b[39min\u001b[39;00m \u001b[39mzip\u001b[39m(target\u001b[39m.\u001b[39mshape, output\u001b[39m.\u001b[39mshape):\n\u001b[0;32m    659\u001b[0m     \u001b[39mif\u001b[39;00m e1 \u001b[39mis\u001b[39;00m \u001b[39mnot\u001b[39;00m \u001b[39mNone\u001b[39;00m \u001b[39mand\u001b[39;00m e2 \u001b[39mis\u001b[39;00m \u001b[39mnot\u001b[39;00m \u001b[39mNone\u001b[39;00m \u001b[39mand\u001b[39;00m e1 \u001b[39m!=\u001b[39m e2:\n\u001b[1;32m--> 660\u001b[0m         \u001b[39mraise\u001b[39;00m \u001b[39mValueError\u001b[39;00m(\n\u001b[0;32m    661\u001b[0m             \u001b[39m\"\u001b[39m\u001b[39mArguments `target` and `output` must have the same shape. \u001b[39m\u001b[39m\"\u001b[39m\n\u001b[0;32m    662\u001b[0m             \u001b[39m\"\u001b[39m\u001b[39mReceived: \u001b[39m\u001b[39m\"\u001b[39m\n\u001b[0;32m    663\u001b[0m             \u001b[39mf\u001b[39m\u001b[39m\"\u001b[39m\u001b[39mtarget.shape=\u001b[39m\u001b[39m{\u001b[39;00mtarget\u001b[39m.\u001b[39mshape\u001b[39m}\u001b[39;00m\u001b[39m, output.shape=\u001b[39m\u001b[39m{\u001b[39;00moutput\u001b[39m.\u001b[39mshape\u001b[39m}\u001b[39;00m\u001b[39m\"\u001b[39m\n\u001b[0;32m    664\u001b[0m         )\n\u001b[0;32m    666\u001b[0m output, from_logits \u001b[39m=\u001b[39m _get_logits(\n\u001b[0;32m    667\u001b[0m     output, from_logits, \u001b[39m\"\u001b[39m\u001b[39mSoftmax\u001b[39m\u001b[39m\"\u001b[39m, \u001b[39m\"\u001b[39m\u001b[39mcategorical_crossentropy\u001b[39m\u001b[39m\"\u001b[39m\n\u001b[0;32m    668\u001b[0m )\n\u001b[0;32m    669\u001b[0m \u001b[39mif\u001b[39;00m from_logits:\n",
      "\u001b[1;31mValueError\u001b[0m: Arguments `target` and `output` must have the same shape. Received: target.shape=(None, 43), output.shape=(None, 34)"
     ]
    }
   ],
   "source": [
    "from tensorflow.keras.callbacks import EarlyStopping\n",
    "\n",
    "# Step 5: Set up EarlyStopping\n",
    "early_stop = EarlyStopping(monitor='val_loss', patience=5, restore_best_weights=True)\n",
    "\n",
    "# Step 6: Train the model\n",
    "history = model.fit(\n",
    "    X_train, y_train_one_hot,  # Use the one-hot encoded labels\n",
    "    epochs=50,\n",
    "    batch_size=16,\n",
    "    validation_split=0.2,\n",
    "    callbacks=[early_stop],\n",
    "    class_weight=class_weights  # Make sure class_weights is defined\n",
    ")\n",
    "\n",
    "# Step 7: Evaluate the model\n",
    "loss, accuracy = model.evaluate(X_test, y_test_one_hot)  # Use the one-hot encoded test labels\n",
    "print(f\"Test Accuracy: {accuracy * 100:.2f}%\")\n"
   ]
  },
  {
   "cell_type": "code",
   "execution_count": 187,
   "metadata": {},
   "outputs": [
    {
     "name": "stdout",
     "output_type": "stream",
     "text": [
      "Epoch 1/50\n"
     ]
    },
    {
     "ename": "ValueError",
     "evalue": "Arguments `target` and `output` must have the same shape. Received: target.shape=(None, 43), output.shape=(None, 34)",
     "output_type": "error",
     "traceback": [
      "\u001b[1;31m---------------------------------------------------------------------------\u001b[0m",
      "\u001b[1;31mValueError\u001b[0m                                Traceback (most recent call last)",
      "Cell \u001b[1;32mIn[187], line 5\u001b[0m\n\u001b[0;32m      3\u001b[0m \u001b[39m# 8. Train with EarlyStopping\u001b[39;00m\n\u001b[0;32m      4\u001b[0m early_stop \u001b[39m=\u001b[39m EarlyStopping(monitor\u001b[39m=\u001b[39m\u001b[39m'\u001b[39m\u001b[39mval_loss\u001b[39m\u001b[39m'\u001b[39m, patience\u001b[39m=\u001b[39m\u001b[39m5\u001b[39m, restore_best_weights\u001b[39m=\u001b[39m\u001b[39mTrue\u001b[39;00m)\n\u001b[1;32m----> 5\u001b[0m history \u001b[39m=\u001b[39m model\u001b[39m.\u001b[39;49mfit(\n\u001b[0;32m      6\u001b[0m     X_train, y_train_one_hot,  \u001b[39m# Use y_train_one_hot here\u001b[39;49;00m\n\u001b[0;32m      7\u001b[0m     epochs\u001b[39m=\u001b[39;49m\u001b[39m50\u001b[39;49m,\n\u001b[0;32m      8\u001b[0m     batch_size\u001b[39m=\u001b[39;49m\u001b[39m16\u001b[39;49m,\n\u001b[0;32m      9\u001b[0m     validation_split\u001b[39m=\u001b[39;49m\u001b[39m0.2\u001b[39;49m,\n\u001b[0;32m     10\u001b[0m     callbacks\u001b[39m=\u001b[39;49m[early_stop],\n\u001b[0;32m     11\u001b[0m     class_weight\u001b[39m=\u001b[39;49mclass_weights  \u001b[39m# Add class weights if necessary\u001b[39;49;00m\n\u001b[0;32m     12\u001b[0m )\n\u001b[0;32m     14\u001b[0m \u001b[39m# 9. Evaluate\u001b[39;00m\n\u001b[0;32m     15\u001b[0m loss, accuracy \u001b[39m=\u001b[39m model\u001b[39m.\u001b[39mevaluate(X_test, y_test_one_hot)  \u001b[39m# Use y_test_one_hot here\u001b[39;00m\n",
      "File \u001b[1;32mc:\\Users\\Administrator\\AppData\\Local\\Programs\\Python\\Python312\\Lib\\site-packages\\keras\\src\\utils\\traceback_utils.py:122\u001b[0m, in \u001b[0;36mfilter_traceback.<locals>.error_handler\u001b[1;34m(*args, **kwargs)\u001b[0m\n\u001b[0;32m    119\u001b[0m     filtered_tb \u001b[39m=\u001b[39m _process_traceback_frames(e\u001b[39m.\u001b[39m__traceback__)\n\u001b[0;32m    120\u001b[0m     \u001b[39m# To get the full stack trace, call:\u001b[39;00m\n\u001b[0;32m    121\u001b[0m     \u001b[39m# `keras.config.disable_traceback_filtering()`\u001b[39;00m\n\u001b[1;32m--> 122\u001b[0m     \u001b[39mraise\u001b[39;00m e\u001b[39m.\u001b[39mwith_traceback(filtered_tb) \u001b[39mfrom\u001b[39;00m \u001b[39mNone\u001b[39;00m\n\u001b[0;32m    123\u001b[0m \u001b[39mfinally\u001b[39;00m:\n\u001b[0;32m    124\u001b[0m     \u001b[39mdel\u001b[39;00m filtered_tb\n",
      "File \u001b[1;32mc:\\Users\\Administrator\\AppData\\Local\\Programs\\Python\\Python312\\Lib\\site-packages\\keras\\src\\backend\\tensorflow\\nn.py:660\u001b[0m, in \u001b[0;36mcategorical_crossentropy\u001b[1;34m(target, output, from_logits, axis)\u001b[0m\n\u001b[0;32m    658\u001b[0m \u001b[39mfor\u001b[39;00m e1, e2 \u001b[39min\u001b[39;00m \u001b[39mzip\u001b[39m(target\u001b[39m.\u001b[39mshape, output\u001b[39m.\u001b[39mshape):\n\u001b[0;32m    659\u001b[0m     \u001b[39mif\u001b[39;00m e1 \u001b[39mis\u001b[39;00m \u001b[39mnot\u001b[39;00m \u001b[39mNone\u001b[39;00m \u001b[39mand\u001b[39;00m e2 \u001b[39mis\u001b[39;00m \u001b[39mnot\u001b[39;00m \u001b[39mNone\u001b[39;00m \u001b[39mand\u001b[39;00m e1 \u001b[39m!=\u001b[39m e2:\n\u001b[1;32m--> 660\u001b[0m         \u001b[39mraise\u001b[39;00m \u001b[39mValueError\u001b[39;00m(\n\u001b[0;32m    661\u001b[0m             \u001b[39m\"\u001b[39m\u001b[39mArguments `target` and `output` must have the same shape. \u001b[39m\u001b[39m\"\u001b[39m\n\u001b[0;32m    662\u001b[0m             \u001b[39m\"\u001b[39m\u001b[39mReceived: \u001b[39m\u001b[39m\"\u001b[39m\n\u001b[0;32m    663\u001b[0m             \u001b[39mf\u001b[39m\u001b[39m\"\u001b[39m\u001b[39mtarget.shape=\u001b[39m\u001b[39m{\u001b[39;00mtarget\u001b[39m.\u001b[39mshape\u001b[39m}\u001b[39;00m\u001b[39m, output.shape=\u001b[39m\u001b[39m{\u001b[39;00moutput\u001b[39m.\u001b[39mshape\u001b[39m}\u001b[39;00m\u001b[39m\"\u001b[39m\n\u001b[0;32m    664\u001b[0m         )\n\u001b[0;32m    666\u001b[0m output, from_logits \u001b[39m=\u001b[39m _get_logits(\n\u001b[0;32m    667\u001b[0m     output, from_logits, \u001b[39m\"\u001b[39m\u001b[39mSoftmax\u001b[39m\u001b[39m\"\u001b[39m, \u001b[39m\"\u001b[39m\u001b[39mcategorical_crossentropy\u001b[39m\u001b[39m\"\u001b[39m\n\u001b[0;32m    668\u001b[0m )\n\u001b[0;32m    669\u001b[0m \u001b[39mif\u001b[39;00m from_logits:\n",
      "\u001b[1;31mValueError\u001b[0m: Arguments `target` and `output` must have the same shape. Received: target.shape=(None, 43), output.shape=(None, 34)"
     ]
    }
   ],
   "source": [
    "from tensorflow.keras.callbacks import EarlyStopping\n",
    "\n",
    "# 8. Train with EarlyStopping\n",
    "early_stop = EarlyStopping(monitor='val_loss', patience=5, restore_best_weights=True)\n",
    "history = model.fit(\n",
    "    X_train, y_train_one_hot,  # Use y_train_one_hot here\n",
    "    epochs=50,\n",
    "    batch_size=16,\n",
    "    validation_split=0.2,\n",
    "    callbacks=[early_stop],\n",
    "    class_weight=class_weights  # Add class weights if necessary\n",
    ")\n",
    "\n",
    "# 9. Evaluate\n",
    "loss, accuracy = model.evaluate(X_test, y_test_one_hot)  # Use y_test_one_hot here\n",
    "print(f\"Test Accuracy: {accuracy * 100:.2f}%\")\n"
   ]
  },
  {
   "cell_type": "code",
   "execution_count": null,
   "metadata": {},
   "outputs": [
    {
     "data": {
      "text/plain": [
       "['label_encoder.pkl']"
      ]
     },
     "execution_count": 144,
     "metadata": {},
     "output_type": "execute_result"
    }
   ],
   "source": [
    "import joblib\n",
    "joblib.dump(scaler, 'scaler.pkl')\n",
    "joblib.dump(label_encoder, 'label_encoder.pkl')\n"
   ]
  },
  {
   "cell_type": "code",
   "execution_count": null,
   "metadata": {},
   "outputs": [
    {
     "data": {
      "image/png": "[encoded data removed]",
      "text/plain": [
       "<Figure size 640x480 with 1 Axes>"
      ]
     },
     "metadata": {},
     "output_type": "display_data"
    }
   ],
   "source": [
    "# 10. Optional: Plot accuracy/loss curves\n",
    "plt.plot(history.history['accuracy'], label='train acc')\n",
    "plt.plot(history.history['val_accuracy'], label='val acc')\n",
    "plt.title('Model Accuracy')\n",
    "plt.xlabel('Epochs')\n",
    "plt.ylabel('Accuracy')\n",
    "plt.legend()\n",
    "plt.show()"
   ]
  },
  {
   "cell_type": "code",
   "execution_count": null,
   "metadata": {},
   "outputs": [],
   "source": []
  }
 ],
 "metadata": {
  "kernelspec": {
   "display_name": "Python 3.12.3 64-bit",
   "language": "python",
   "name": "python3"
  },
  "language_info": {
   "codemirror_mode": {
    "name": "ipython",
    "version": 3
   },
   "file_extension": ".py",
   "mimetype": "text/x-python",
   "name": "python",
   "nbconvert_exporter": "python",
   "pygments_lexer": "ipython3",
   "version": "3.12.3"
  },
  "orig_nbformat": 4,
  "vscode": {
   "interpreter": {
    "hash": "32e8181fce7c3e359c2790b917cd539742ff129bf629b8ad82002a107951ad4e"
   }
  }
 },
 "nbformat": 4,
 "nbformat_minor": 2
}
